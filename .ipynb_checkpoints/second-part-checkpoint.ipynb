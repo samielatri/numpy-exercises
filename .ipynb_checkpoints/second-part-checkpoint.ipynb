{
 "cells": [
  {
   "cell_type": "markdown",
   "metadata": {},
   "source": []
  },
  {
   "cell_type": "markdown",
   "metadata": {},
   "source": []
  },
  {
   "cell_type": "markdown",
   "metadata": {},
   "source": []
  },
  {
   "cell_type": "code",
   "execution_count": 1,
   "metadata": {},
   "outputs": [],
   "source": [
    "import numpy as np\n",
    "\n",
    "world_alcohol = np.genfromtxt(\"world_alcohol.csv\", delimiter=\",\", dtype=\"U75\", skip_header=1)"
   ]
  },
  {
   "cell_type": "code",
   "execution_count": 2,
   "metadata": {},
   "outputs": [],
   "source": [
    "countries_canada = (world_alcohol[:,2] == \"Canada\")"
   ]
  },
  {
   "cell_type": "code",
   "execution_count": 3,
   "metadata": {},
   "outputs": [],
   "source": [
    "years_1984 = (world_alcohol[:,0] == \"1984\")"
   ]
  },
  {
   "cell_type": "markdown",
   "metadata": {},
   "source": []
  },
  {
   "cell_type": "markdown",
   "metadata": {},
   "source": []
  },
  {
   "cell_type": "code",
   "execution_count": 4,
   "metadata": {},
   "outputs": [
    {
     "name": "stdout",
     "output_type": "stream",
     "text": [
      "[['1984' 'Africa' 'Algeria' 'Spirits' '0.01']\n",
      " ['1987' 'Africa' 'Algeria' 'Beer' '0.17']\n",
      " ['1987' 'Africa' 'Algeria' 'Spirits' '0.01']\n",
      " ['1986' 'Africa' 'Algeria' 'Wine' '0.1']\n",
      " ['1984' 'Africa' 'Algeria' 'Other' '0']\n",
      " ['1989' 'Africa' 'Algeria' 'Beer' '0.16']\n",
      " ['1989' 'Africa' 'Algeria' 'Spirits' '0.01']\n",
      " ['1989' 'Africa' 'Algeria' 'Wine' '0.23']\n",
      " ['1986' 'Africa' 'Algeria' 'Spirits' '0.01']\n",
      " ['1984' 'Africa' 'Algeria' 'Wine' '0.12']\n",
      " ['1985' 'Africa' 'Algeria' 'Beer' '0.19']\n",
      " ['1985' 'Africa' 'Algeria' 'Other' '0']\n",
      " ['1986' 'Africa' 'Algeria' 'Beer' '0.18']\n",
      " ['1985' 'Africa' 'Algeria' 'Wine' '0.11']\n",
      " ['1986' 'Africa' 'Algeria' 'Other' '0']\n",
      " ['1989' 'Africa' 'Algeria' 'Other' '0']\n",
      " ['1987' 'Africa' 'Algeria' 'Other' '0']\n",
      " ['1984' 'Africa' 'Algeria' 'Beer' '0.2']\n",
      " ['1985' 'Africa' 'Algeria' 'Spirits' '0.01']\n",
      " ['1987' 'Africa' 'Algeria' 'Wine' '0.1']]\n"
     ]
    }
   ],
   "source": [
    "country_is_algeria = world_alcohol[:,2] == \"Algeria\"\n",
    "country_algeria = world_alcohol[country_is_algeria]\n",
    "print(country_algeria)"
   ]
  },
  {
   "cell_type": "code",
   "execution_count": 5,
   "metadata": {},
   "outputs": [
    {
     "name": "stdout",
     "output_type": "stream",
     "text": [
      "[['1984' 'Africa' 'Nigeria' 'Other' '6.1']\n",
      " ['1984' 'Eastern Mediterranean' 'Afghanistan' 'Other' '0']\n",
      " ['1984' 'Americas' 'Costa Rica' 'Wine' '0.06']\n",
      " ...\n",
      " ['1984' 'Europe' 'Latvia' 'Spirits' '7.5']\n",
      " ['1984' 'Africa' 'Angola' 'Wine' '0.57']\n",
      " ['1984' 'Africa' 'Central African Republic' 'Wine' '0.46']]\n"
     ]
    }
   ],
   "source": [
    "year_is_1984 = world_alcohol[:,0] == \"1984\"\n",
    "years_1984 = world_alcohol[year_is_1984]\n",
    "print(years_1984)"
   ]
  },
  {
   "cell_type": "code",
   "execution_count": 6,
   "metadata": {},
   "outputs": [
    {
     "name": "stdout",
     "output_type": "stream",
     "text": [
      "[['1984' 'Africa' 'Nigeria' 'Other' '6.1']\n",
      " ['1984' 'Eastern Mediterranean' 'Afghanistan' 'Other' '0']\n",
      " ['1984' 'Americas' 'Costa Rica' 'Wine' '0.06']\n",
      " ...\n",
      " ['1984' 'Europe' 'Latvia' 'Spirits' '7.5']\n",
      " ['1984' 'Africa' 'Angola' 'Wine' '0.57']\n",
      " ['1984' 'Africa' 'Central African Republic' 'Wine' '0.46']]\n"
     ]
    }
   ],
   "source": [
    "years_1984 = world_alcohol[world_alcohol[:,0] == \"1984\"]\n",
    "print(years_1984)"
   ]
  },
  {
   "cell_type": "markdown",
   "metadata": {},
   "source": []
  },
  {
   "cell_type": "markdown",
   "metadata": {},
   "source": []
  },
  {
   "cell_type": "code",
   "execution_count": 7,
   "metadata": {},
   "outputs": [
    {
     "name": "stdout",
     "output_type": "stream",
     "text": [
      "[['1986' 'Africa' 'Algeria' 'Wine' '0.1']\n",
      " ['1986' 'Africa' 'Algeria' 'Spirits' '0.01']\n",
      " ['1986' 'Africa' 'Algeria' 'Beer' '0.18']\n",
      " ['1986' 'Africa' 'Algeria' 'Other' '0']]\n"
     ]
    }
   ],
   "source": [
    "is_algeria_and_1986 = (world_alcohol[:,2] == \"Algeria\") & (world_alcohol[:,0] == \"1986\")\n",
    "rows_with_algeria_and_1986 = world_alcohol[is_algeria_and_1986,:]\n",
    "print(rows_with_algeria_and_1986)"
   ]
  },
  {
   "cell_type": "markdown",
   "metadata": {},
   "source": []
  },
  {
   "cell_type": "markdown",
   "metadata": {},
   "source": []
  },
  {
   "cell_type": "code",
   "execution_count": 8,
   "metadata": {},
   "outputs": [],
   "source": [
    "world_alcohol_2 = world_alcohol.copy()"
   ]
  },
  {
   "cell_type": "code",
   "execution_count": 9,
   "metadata": {},
   "outputs": [],
   "source": [
    "world_alcohol_2[:,0][world_alcohol_2[:,0] == '1986'] = '2018'"
   ]
  },
  {
   "cell_type": "code",
   "execution_count": 10,
   "metadata": {},
   "outputs": [],
   "source": [
    "world_alcohol_2[:,3][world_alcohol_2[:,3] == 'Wine'] = 'Beer'"
   ]
  },
  {
   "cell_type": "markdown",
   "metadata": {},
   "source": []
  },
  {
   "cell_type": "markdown",
   "metadata": {},
   "source": []
  },
  {
   "cell_type": "code",
   "execution_count": 11,
   "metadata": {},
   "outputs": [],
   "source": [
    "is_value_empty = world_alcohol[:,4] == ''\n",
    "world_alcohol[is_value_empty, 4] = '0'"
   ]
  },
  {
   "cell_type": "markdown",
   "metadata": {},
   "source": []
  },
  {
   "cell_type": "markdown",
   "metadata": {},
   "source": []
  },
  {
   "cell_type": "code",
   "execution_count": 12,
   "metadata": {},
   "outputs": [
    {
     "name": "stdout",
     "output_type": "stream",
     "text": [
      "[0.   0.5  1.62 ... 2.54 0.   5.15]\n"
     ]
    }
   ],
   "source": [
    "alcohol_consumption = world_alcohol[:,4]\n",
    "alcohol_consumption = alcohol_consumption.astype(float)\n",
    "print(alcohol_consumption)"
   ]
  },
  {
   "cell_type": "markdown",
   "metadata": {},
   "source": []
  },
  {
   "cell_type": "markdown",
   "metadata": {},
   "source": []
  },
  {
   "cell_type": "code",
   "execution_count": 13,
   "metadata": {},
   "outputs": [],
   "source": [
    "total_alcohol = alcohol_consumption.sum()\n",
    "average_alcohol = alcohol_consumption.mean()"
   ]
  },
  {
   "cell_type": "code",
   "execution_count": 14,
   "metadata": {},
   "outputs": [
    {
     "name": "stdout",
     "output_type": "stream",
     "text": [
      "3908.96\n"
     ]
    }
   ],
   "source": [
    "print(total_alcohol)"
   ]
  },
  {
   "cell_type": "code",
   "execution_count": 15,
   "metadata": {},
   "outputs": [
    {
     "name": "stdout",
     "output_type": "stream",
     "text": [
      "1.2001719373656738\n"
     ]
    }
   ],
   "source": [
    "print(average_alcohol)"
   ]
  },
  {
   "cell_type": "markdown",
   "metadata": {},
   "source": []
  },
  {
   "cell_type": "markdown",
   "metadata": {},
   "source": []
  },
  {
   "cell_type": "code",
   "execution_count": 16,
   "metadata": {},
   "outputs": [
    {
     "name": "stdout",
     "output_type": "stream",
     "text": [
      "[['1986' 'Americas' 'Canada' 'Other' '0']\n",
      " ['1986' 'Americas' 'Canada' 'Spirits' '3.11']\n",
      " ['1986' 'Americas' 'Canada' 'Beer' '4.87']\n",
      " ['1986' 'Americas' 'Canada' 'Wine' '1.33']]\n"
     ]
    }
   ],
   "source": [
    "is_canada_1986 = (world_alcohol[:,2] == \"Canada\") & (world_alcohol[:,0] == \"1986\")\n",
    "canada_1986 = world_alcohol[is_canada_1986,:]\n",
    "print(canada_1986)"
   ]
  },
  {
   "cell_type": "code",
   "execution_count": 17,
   "metadata": {},
   "outputs": [
    {
     "name": "stdout",
     "output_type": "stream",
     "text": [
      "['0' '3.11' '4.87' '1.33']\n"
     ]
    }
   ],
   "source": [
    "canada_alcohol = canada_1986[:,4]\n",
    "print(canada_alcohol)"
   ]
  },
  {
   "cell_type": "code",
   "execution_count": 18,
   "metadata": {},
   "outputs": [
    {
     "name": "stdout",
     "output_type": "stream",
     "text": [
      "['0' '3.11' '4.87' '1.33']\n"
     ]
    }
   ],
   "source": [
    "empty_strings = canada_alcohol == ''\n",
    "canada_alcohol[empty_strings] = \"0\"\n",
    "print(canada_alcohol)"
   ]
  },
  {
   "cell_type": "code",
   "execution_count": 19,
   "metadata": {},
   "outputs": [
    {
     "name": "stdout",
     "output_type": "stream",
     "text": [
      "[0.   3.11 4.87 1.33]\n"
     ]
    }
   ],
   "source": [
    "canada_alcohol = canada_alcohol.astype(float)\n",
    "print(canada_alcohol)"
   ]
  },
  {
   "cell_type": "code",
   "execution_count": 20,
   "metadata": {},
   "outputs": [
    {
     "name": "stdout",
     "output_type": "stream",
     "text": [
      "9.31\n"
     ]
    }
   ],
   "source": [
    "total_canadian_drinking = canada_alcohol.sum()\n",
    "print(total_canadian_drinking)"
   ]
  },
  {
   "cell_type": "markdown",
   "metadata": {},
   "source": []
  },
  {
   "cell_type": "markdown",
   "metadata": {},
   "source": []
  },
  {
   "cell_type": "code",
   "execution_count": 21,
   "metadata": {},
   "outputs": [
    {
     "name": "stdout",
     "output_type": "stream",
     "text": [
      "{'Viet Nam': 0.16, 'Uruguay': 7.4399999999999995, \"Cte d'Ivoire\": 2.2, 'Colombia': 6.960000000000001, 'Saint Kitts and Nevis': 4.65, 'Guatemala': 2.47, 'Mauritius': 3.54, 'Angola': 2.28, 'Antigua and Barbuda': 4.69, 'Nigeria': 6.74, 'Botswana': 4.63, \"Lao People's Democratic Republic\": 5.95, 'Afghanistan': 0.0, 'Guinea-Bissau': 2.67, 'Costa Rica': 5.3999999999999995, 'Seychelles': 3.3000000000000003, 'Norway': 5.08, 'Kenya': 2.82, 'Myanmar': 0.16, 'Romania': 8.41, 'Turkey': 0.72, 'Comoros': 0.10999999999999999, 'Tunisia': 0.95, 'United Kingdom of Great Britain and Northern Ireland': 9.99, 'Bahrain': 4.89, 'Italy': 10.899999999999999, 'Sierra Leone': 4.380000000000001, 'Micronesia (Federated States of)': 0.0, 'Mauritania': 0.02, 'Russian Federation': 5.35, 'Egypt': 0.42000000000000004, 'Sweden': 7.47, 'Qatar': 1.4500000000000002, 'Burkina Faso': 3.99, 'Austria': 13.9, 'Czech Republic': 13.009999999999998, 'Ukraine': 5.32, 'China': 3.33, 'Lithuania': 0.0, 'Zimbabwe': 4.92, 'Trinidad and Tobago': 4.68, 'Mexico': 5.1, 'Nicaragua': 2.5, 'Malta': 7.13, 'Switzerland': 13.849999999999998, 'Finland': 9.419999999999998, 'Saudi Arabia': 0.15, 'Kuwait': 0.0, 'El Salvador': 1.77, 'Suriname': 3.67, 'Croatia': 10.92, 'Somalia': 0.0, 'Syrian Arab Republic': 0.54, 'Iran (Islamic Republic of)': 0.0, 'Papua New Guinea': 1.1099999999999999, 'Libya': 0.0, 'Bolivia (Plurinational State of)': 3.05, 'Iraq': 0.75, 'Namibia': 0.24, 'Uganda': 7.8, 'Togo': 2.2199999999999998, 'Madagascar': 1.38, 'Mali': 0.6699999999999999, 'Pakistan': 0.02, 'Cameroon': 6.359999999999999, 'Jamaica': 3.03, 'Malawi': 1.02, 'Netherlands': 10.030000000000001, 'Ireland': 11.79, 'Sri Lanka': 0.14, 'Democratic Republic of the Congo': 1.92, 'Bahamas': 12.290000000000001, 'Lebanon': 3.94, 'Bulgaria': 11.43, 'Eritrea': 0.29, 'Niger': 0.11, 'Luxembourg': 15.21, 'Indonesia': 0.07, 'Equatorial Guinea': 6.49, \"Democratic People's Republic of Korea\": 3.6799999999999997, 'Chile': 8.649999999999999, 'Central African Republic': 2.5199999999999996, 'Spain': 13.280000000000001, 'Gambia': 1.6300000000000001, 'Ghana': 1.8599999999999999, 'Brazil': 5.52, 'Portugal': 15.350000000000001, 'Burundi': 8.159999999999998, 'Belgium': 11.61, 'Paraguay': 6.51, 'Hungary': 16.29, 'Greece': 10.15, 'India': 1.66, 'Kyrgyzstan': 4.279999999999999, 'France': 16.05, 'Zambia': 3.37, 'Israel': 2.0300000000000002, 'Swaziland': 6.68, 'Canada': 9.0, 'Cambodia': 0.33, 'Cabo Verde': 2.79, 'United Arab Emirates': 4.43, 'Peru': 4.99, 'Solomon Islands': 0.5800000000000001, 'United Republic of Tanzania': 5.9, 'Chad': 0.30000000000000004, 'Cuba': 4.37, 'Guyana': 9.940000000000001, 'Mongolia': 2.59, 'Australia': 12.09, 'Sao Tome and Principe': 2.57, 'Slovenia': 12.969999999999999, 'Benin': 1.3800000000000001, 'Algeria': 0.4, 'Venezuela (Bolivarian Republic of)': 7.87, 'Ecuador': 2.54, 'Iceland': 5.359999999999999, 'Liberia': 5.61, 'Yemen': 0.2, 'Sudan': 0.15, 'Belarus': 7.9799999999999995, 'Cyprus': 9.29, 'United States of America': 9.16, 'Vanuatu': 1.74, 'Bangladesh': 0.0, 'Philippines': 3.78, 'Slovakia': 12.700000000000001, 'Poland': 9.33, 'Senegal': 0.6100000000000001, 'Honduras': 2.15, 'Bhutan': 0.31, 'Fiji': 1.9600000000000002, 'Belize': 0.0, 'Lesotho': 2.02, 'Singapore': 1.61, 'Guinea': 0.21, 'Brunei Darussalam': 2.7800000000000002, 'Congo': 3.1500000000000004, 'Thailand': 3.92, 'Djibouti': 0.87, 'Gabon': 9.34, 'Dominican Republic': 4.53, 'Morocco': 0.7, 'New Zealand': 11.52, 'Denmark': 11.649999999999999, 'Samoa': 2.63, 'Argentina': 10.82, 'Oman': 1.03, 'Kiribati': 0.48, 'Albania': 1.73, 'Nepal': 0.03, 'Malaysia': 0.68, 'Latvia': 7.039999999999999, 'Haiti': 5.81, 'South Africa': 9.21, 'Republic of Korea': 9.620000000000001, 'Japan': 7.74, 'Mozambique': 0.39, 'Ethiopia': 0.8600000000000001, 'Panama': 4.6000000000000005, 'Germany': 14.64, 'Saint Lucia': 11.62, 'Rwanda': 7.549999999999999, 'Jordan': 0.19}\n"
     ]
    }
   ],
   "source": [
    "totals = {}\n",
    "\n",
    "is_year = world_alcohol[:,0] == \"1989\"\n",
    "year = world_alcohol[is_year,:]\n",
    "countries = world_alcohol[:,2]\n",
    "\n",
    "for country in countries:\n",
    "    is_country = year[:,2] == country\n",
    "    country_consumption = year[is_country,:]\n",
    "    alcohol_column = country_consumption[:,4]\n",
    "    is_empty = alcohol_column == ''\n",
    "    alcohol_column[is_empty] = \"0\"\n",
    "    alcohol_column = alcohol_column.astype(float)\n",
    "    totals[country] = alcohol_column.sum()\n",
    "    \n",
    "print(totals)"
   ]
  },
  {
   "cell_type": "markdown",
   "metadata": {},
   "source": []
  },
  {
   "cell_type": "markdown",
   "metadata": {},
   "source": []
  },
  {
   "cell_type": "code",
   "execution_count": 22,
   "metadata": {},
   "outputs": [
    {
     "name": "stdout",
     "output_type": "stream",
     "text": [
      "Hungary\n"
     ]
    }
   ],
   "source": [
    "highest_value = 0\n",
    "highest_key = None\n",
    "\n",
    "for country in totals:\n",
    "    consumption = totals[country]\n",
    "    if highest_value < consumption:\n",
    "        highest_value = consumption\n",
    "        highest_key = country\n",
    "        \n",
    "print(highest_key)"
   ]
  },
  {
   "cell_type": "code",
   "execution_count": 23,
   "metadata": {},
   "outputs": [
    {
     "name": "stdout",
     "output_type": "stream",
     "text": [
      "16.29\n"
     ]
    }
   ],
   "source": [
    "print(highest_value)"
   ]
  },
  {
   "cell_type": "code",
   "execution_count": 24,
   "metadata": {},
   "outputs": [
    {
     "data": {
      "text/plain": [
       "{'Guatemala': 2.47,\n",
       " 'Seychelles': 3.3000000000000003,\n",
       " 'Costa Rica': 5.3999999999999995,\n",
       " 'Mauritius': 3.54,\n",
       " 'Zimbabwe': 4.92,\n",
       " 'Suriname': 3.67,\n",
       " 'Croatia': 10.92,\n",
       " 'Syrian Arab Republic': 0.54,\n",
       " 'Bolivia (Plurinational State of)': 3.05,\n",
       " 'Somalia': 0.0,\n",
       " 'Namibia': 0.24,\n",
       " 'Uganda': 7.8,\n",
       " 'Afghanistan': 0.0,\n",
       " 'Jamaica': 3.03,\n",
       " 'Finland': 9.419999999999998,\n",
       " 'Iraq': 0.75,\n",
       " 'Malawi': 1.02,\n",
       " 'Bulgaria': 11.43,\n",
       " 'Nicaragua': 2.5,\n",
       " 'Central African Republic': 2.5199999999999996,\n",
       " 'Burundi': 8.159999999999998,\n",
       " 'Sweden': 7.47,\n",
       " 'Greece': 10.15,\n",
       " 'Kyrgyzstan': 4.279999999999999,\n",
       " 'Belgium': 11.61,\n",
       " 'Angola': 2.28,\n",
       " 'Burkina Faso': 3.99,\n",
       " 'Czech Republic': 13.009999999999998,\n",
       " 'United Arab Emirates': 4.43,\n",
       " 'Peru': 4.99,\n",
       " 'Trinidad and Tobago': 4.68,\n",
       " 'Guyana': 9.940000000000001,\n",
       " 'Bahrain': 4.89,\n",
       " 'Benin': 1.3800000000000001,\n",
       " 'Liberia': 5.61,\n",
       " 'Viet Nam': 0.16,\n",
       " 'Belarus': 7.9799999999999995,\n",
       " 'Swaziland': 6.68,\n",
       " 'France': 16.05,\n",
       " 'United States of America': 9.16,\n",
       " 'Cabo Verde': 2.79,\n",
       " 'Saudi Arabia': 0.15,\n",
       " 'Poland': 9.33,\n",
       " 'Senegal': 0.6100000000000001,\n",
       " 'Slovenia': 12.969999999999999,\n",
       " 'Hungary': 16.29,\n",
       " 'Iran (Islamic Republic of)': 0.0,\n",
       " 'Lesotho': 2.02,\n",
       " 'Gabon': 9.34,\n",
       " 'Comoros': 0.10999999999999999,\n",
       " 'Italy': 10.899999999999999,\n",
       " 'Denmark': 11.649999999999999,\n",
       " 'Canada': 9.0,\n",
       " 'Zambia': 3.37,\n",
       " 'Botswana': 4.63,\n",
       " 'Kuwait': 0.0,\n",
       " 'Russian Federation': 5.35,\n",
       " 'New Zealand': 11.52,\n",
       " 'Uruguay': 7.4399999999999995,\n",
       " 'Fiji': 1.9600000000000002,\n",
       " 'Israel': 2.0300000000000002,\n",
       " \"Cte d'Ivoire\": 2.2,\n",
       " 'Spain': 13.280000000000001,\n",
       " 'South Africa': 9.21,\n",
       " 'Morocco': 0.7,\n",
       " 'Venezuela (Bolivarian Republic of)': 7.87,\n",
       " 'Egypt': 0.42000000000000004,\n",
       " 'Ethiopia': 0.8600000000000001,\n",
       " 'Bhutan': 0.31,\n",
       " 'Chile': 8.649999999999999,\n",
       " 'Cambodia': 0.33,\n",
       " 'Mali': 0.6699999999999999,\n",
       " 'Nepal': 0.03,\n",
       " 'Kiribati': 0.48,\n",
       " 'Dominican Republic': 4.53,\n",
       " 'Vanuatu': 1.74,\n",
       " 'Solomon Islands': 0.5800000000000001,\n",
       " 'Libya': 0.0,\n",
       " 'Ukraine': 5.32,\n",
       " 'Eritrea': 0.29,\n",
       " 'Switzerland': 13.849999999999998,\n",
       " 'Mexico': 5.1,\n",
       " 'Portugal': 15.350000000000001,\n",
       " 'El Salvador': 1.77,\n",
       " 'Philippines': 3.78,\n",
       " 'Netherlands': 10.030000000000001,\n",
       " 'Mozambique': 0.39,\n",
       " 'Togo': 2.2199999999999998,\n",
       " \"Democratic People's Republic of Korea\": 3.6799999999999997,\n",
       " 'Cuba': 4.37,\n",
       " 'Singapore': 1.61,\n",
       " 'Lithuania': 0.0,\n",
       " 'Ecuador': 2.54,\n",
       " 'Malaysia': 0.68,\n",
       " 'Niger': 0.11,\n",
       " 'Democratic Republic of the Congo': 1.92,\n",
       " 'Australia': 12.09,\n",
       " 'Cyprus': 9.29,\n",
       " 'Antigua and Barbuda': 4.69,\n",
       " 'Pakistan': 0.02,\n",
       " 'Colombia': 6.960000000000001,\n",
       " 'Saint Lucia': 11.62,\n",
       " 'Brazil': 5.52,\n",
       " 'Algeria': 0.4,\n",
       " 'Malta': 7.13,\n",
       " \"Lao People's Democratic Republic\": 5.95,\n",
       " 'Turkey': 0.72,\n",
       " 'Ghana': 1.8599999999999999,\n",
       " 'Mauritania': 0.02,\n",
       " 'Cameroon': 6.359999999999999,\n",
       " 'Bahamas': 12.290000000000001,\n",
       " 'Djibouti': 0.87,\n",
       " 'Equatorial Guinea': 6.49,\n",
       " 'Oman': 1.03,\n",
       " 'Micronesia (Federated States of)': 0.0,\n",
       " 'Myanmar': 0.16,\n",
       " 'Qatar': 1.4500000000000002,\n",
       " 'Rwanda': 7.549999999999999,\n",
       " 'Mongolia': 2.59,\n",
       " 'Latvia': 7.039999999999999,\n",
       " 'Kenya': 2.82,\n",
       " 'Saint Kitts and Nevis': 4.65,\n",
       " 'Japan': 7.74,\n",
       " 'Iceland': 5.359999999999999,\n",
       " 'Papua New Guinea': 1.1099999999999999,\n",
       " 'Guinea-Bissau': 2.67,\n",
       " 'Belize': 0.0,\n",
       " 'United Republic of Tanzania': 5.9,\n",
       " 'Paraguay': 6.51,\n",
       " 'Thailand': 3.92,\n",
       " 'Tunisia': 0.95,\n",
       " 'United Kingdom of Great Britain and Northern Ireland': 9.99,\n",
       " 'Lebanon': 3.94,\n",
       " 'Luxembourg': 15.21,\n",
       " 'Albania': 1.73,\n",
       " 'Bangladesh': 0.0,\n",
       " 'Sudan': 0.15,\n",
       " 'Congo': 3.1500000000000004,\n",
       " 'Indonesia': 0.07,\n",
       " 'Sierra Leone': 4.380000000000001,\n",
       " 'Guinea': 0.21,\n",
       " 'Panama': 4.6000000000000005,\n",
       " 'Honduras': 2.15,\n",
       " 'Samoa': 2.63,\n",
       " 'Brunei Darussalam': 2.7800000000000002,\n",
       " 'Germany': 14.64,\n",
       " 'Yemen': 0.2,\n",
       " 'Chad': 0.30000000000000004,\n",
       " 'Sri Lanka': 0.14,\n",
       " 'Republic of Korea': 9.620000000000001,\n",
       " 'Sao Tome and Principe': 2.57,\n",
       " 'Slovakia': 12.700000000000001,\n",
       " 'Haiti': 5.81,\n",
       " 'Jordan': 0.19,\n",
       " 'Madagascar': 1.38,\n",
       " 'Austria': 13.9,\n",
       " 'Norway': 5.08,\n",
       " 'Argentina': 10.82,\n",
       " 'Romania': 8.41,\n",
       " 'China': 3.33,\n",
       " 'Nigeria': 6.74,\n",
       " 'India': 1.66,\n",
       " 'Ireland': 11.79,\n",
       " 'Gambia': 1.6300000000000001}"
      ]
     },
     "execution_count": 24,
     "metadata": {},
     "output_type": "execute_result"
    }
   ],
   "source": [
    "def total_dic(year):\n",
    "\n",
    "    totals = {}\n",
    "\n",
    "    is_year = (world_alcohol[:,0] == year)\n",
    "    year = world_alcohol[is_year,:]\n",
    "    countries = year[:,2]\n",
    "\n",
    "\n",
    "    for country in countries:\n",
    "        is_country = year[:,2] == country\n",
    "        country_consumption = year[is_country,:]\n",
    "        alcohol_column = country_consumption[:,4]\n",
    "        is_empty_country_consumption = alcohol_column == ''\n",
    "        alcohol_column[is_empty_country_consumption] = \"0\"\n",
    "        alcohol_column = alcohol_column.astype(float)\n",
    "        totals[country] = alcohol_column.sum() \n",
    "    \n",
    "    return totals\n",
    "\n",
    "total_1989 = total_dic(\"1989\")\n",
    "\n",
    "total_1989\n",
    "\n"
   ]
  },
  {
   "cell_type": "code",
   "execution_count": 25,
   "metadata": {},
   "outputs": [
    {
     "data": {
      "text/plain": [
       "{'Saint Kitts and Nevis': 3.18,\n",
       " 'Guatemala': 2.78,\n",
       " 'Mauritius': 3.42,\n",
       " 'Botswana': 4.26,\n",
       " 'Guinea-Bissau': 2.4499999999999997,\n",
       " 'Viet Nam': 0.16,\n",
       " 'Egypt': 0.39,\n",
       " 'Qatar': 1.42,\n",
       " 'Burkina Faso': 4.069999999999999,\n",
       " 'Austria': 13.5,\n",
       " 'Trinidad and Tobago': 4.349999999999999,\n",
       " 'Nicaragua': 3.45,\n",
       " 'Finland': 8.75,\n",
       " 'Iran (Islamic Republic of)': 0.0,\n",
       " 'Suriname': 3.4800000000000004,\n",
       " 'Iraq': 0.66,\n",
       " 'Mauritania': 0.02,\n",
       " 'Ireland': 10.98,\n",
       " 'Lebanon': 3.8099999999999996,\n",
       " 'Madagascar': 1.3299999999999998,\n",
       " 'Chile': 9.49,\n",
       " 'Ghana': 1.28,\n",
       " 'Portugal': 13.22,\n",
       " 'Bahrain': 5.5600000000000005,\n",
       " 'Paraguay': 7.35,\n",
       " 'Zimbabwe': 5.029999999999999,\n",
       " 'Namibia': 0.25,\n",
       " 'Israel': 2.26,\n",
       " 'Antigua and Barbuda': 3.68,\n",
       " 'Swaziland': 3.4699999999999998,\n",
       " 'Costa Rica': 4.2299999999999995,\n",
       " 'Belgium': 13.16,\n",
       " 'Ukraine': 4.01,\n",
       " 'Peru': 6.680000000000001,\n",
       " 'Chad': 0.30000000000000004,\n",
       " 'Ecuador': 2.54,\n",
       " 'Sudan': 0.25,\n",
       " 'Gambia': 1.9600000000000002,\n",
       " 'Philippines': 4.42,\n",
       " 'United States of America': 9.61,\n",
       " 'Honduras': 2.01,\n",
       " 'Fiji': 1.6500000000000001,\n",
       " 'Belize': 4.6499999999999995,\n",
       " 'Angola': 1.6300000000000001,\n",
       " 'Brunei Darussalam': 2.8899999999999997,\n",
       " 'Algeria': 0.28,\n",
       " 'Vanuatu': 1.4300000000000002,\n",
       " 'Guinea': 0.18,\n",
       " 'Lesotho': 2.1,\n",
       " 'Congo': 4.76,\n",
       " 'Democratic Republic of the Congo': 2.3599999999999994,\n",
       " 'Indonesia': 0.06,\n",
       " 'China': 3.1599999999999997,\n",
       " 'Malta': 5.0,\n",
       " 'Solomon Islands': 0.7,\n",
       " 'Colombia': 6.819999999999999,\n",
       " 'United Arab Emirates': 5.36,\n",
       " 'Kyrgyzstan': 3.01,\n",
       " 'Morocco': 0.76,\n",
       " 'Kiribati': 0.63,\n",
       " 'Nepal': 0.02,\n",
       " 'Bangladesh': 0.0,\n",
       " 'Malaysia': 0.64,\n",
       " 'Latvia': 5.77,\n",
       " 'Cyprus': 8.870000000000001,\n",
       " 'Belarus': 0.0,\n",
       " 'Sierra Leone': 4.52,\n",
       " 'Liberia': 4.869999999999999,\n",
       " 'Venezuela (Bolivarian Republic of)': 9.16,\n",
       " 'Mongolia': 2.1,\n",
       " 'Haiti': 5.119999999999999,\n",
       " 'Pakistan': 0.02,\n",
       " 'Malawi': 1.12,\n",
       " 'Afghanistan': 0.0,\n",
       " 'Ethiopia': 0.63,\n",
       " 'Singapore': 1.74,\n",
       " 'Japan': 7.7,\n",
       " 'Czech Republic': 13.2,\n",
       " 'Mali': 0.62,\n",
       " 'Samoa': 3.1399999999999997,\n",
       " 'Saudi Arabia': 0.21,\n",
       " 'Russian Federation': 4.59,\n",
       " 'Kenya': 2.78,\n",
       " 'Slovakia': 13.240000000000002,\n",
       " 'Bahamas': 14.139999999999999,\n",
       " \"Cte d'Ivoire\": 2.49,\n",
       " 'Bhutan': 0.46,\n",
       " 'Netherlands': 10.2,\n",
       " 'Oman': 1.17,\n",
       " 'India': 1.49,\n",
       " 'Germany': 14.83,\n",
       " 'Yemen': 0.16999999999999998,\n",
       " 'Lithuania': 0.0,\n",
       " 'El Salvador': 2.27,\n",
       " 'Dominican Republic': 4.37,\n",
       " 'Cuba': 4.37,\n",
       " 'Argentina': 12.759999999999998,\n",
       " 'Canada': 9.120000000000001,\n",
       " 'Thailand': 2.58,\n",
       " 'Bolivia (Plurinational State of)': 3.06,\n",
       " 'Italy': 11.790000000000001,\n",
       " 'Sri Lanka': 0.18000000000000002,\n",
       " 'Turkey': 0.89,\n",
       " 'Burundi': 8.22,\n",
       " 'Mexico': 4.699999999999999,\n",
       " 'Panama': 5.05,\n",
       " 'Cameroon': 6.500000000000001,\n",
       " 'Hungary': 15.7,\n",
       " 'Uruguay': 7.64,\n",
       " 'Papua New Guinea': 1.29,\n",
       " 'Central African Republic': 2.7800000000000002,\n",
       " 'Brazil': 3.94,\n",
       " 'Guyana': 7.6,\n",
       " 'Sao Tome and Principe': 1.9,\n",
       " 'Equatorial Guinea': 2.4,\n",
       " 'Syrian Arab Republic': 0.77,\n",
       " 'Rwanda': 6.489999999999999,\n",
       " 'Jordan': 0.30000000000000004,\n",
       " 'Eritrea': 0.39,\n",
       " 'Nigeria': 7.319999999999999,\n",
       " 'Bulgaria': 10.91,\n",
       " 'South Africa': 8.97,\n",
       " 'Somalia': 0.02,\n",
       " 'Niger': 0.16,\n",
       " 'United Republic of Tanzania': 6.89,\n",
       " 'Cabo Verde': 3.36,\n",
       " 'Denmark': 11.74,\n",
       " 'Switzerland': 14.02,\n",
       " 'Mozambique': 0.29000000000000004,\n",
       " 'Comoros': 0.08,\n",
       " 'United Kingdom of Great Britain and Northern Ireland': 9.530000000000001,\n",
       " 'France': 15.9,\n",
       " 'Spain': 14.41,\n",
       " 'Croatia': 13.51,\n",
       " 'Myanmar': 0.27,\n",
       " 'Seychelles': 3.27,\n",
       " 'Republic of Korea': 10.18,\n",
       " 'Albania': 1.63,\n",
       " 'Kuwait': 0.0,\n",
       " 'Micronesia (Federated States of)': 0.0,\n",
       " 'Romania': 7.08,\n",
       " 'Djibouti': 1.5899999999999999,\n",
       " 'Gabon': 11.41,\n",
       " 'Iceland': 5.6499999999999995,\n",
       " 'Togo': 2.6499999999999995,\n",
       " 'Australia': 12.46,\n",
       " 'Saint Lucia': 10.030000000000001,\n",
       " 'Senegal': 0.45999999999999996,\n",
       " 'Tunisia': 0.98,\n",
       " 'Zambia': 3.12,\n",
       " 'Cambodia': 0.22,\n",
       " 'Jamaica': 3.11,\n",
       " 'Luxembourg': 15.23,\n",
       " 'Benin': 1.54,\n",
       " \"Lao People's Democratic Republic\": 4.59,\n",
       " 'New Zealand': 12.27,\n",
       " 'Greece': 9.82,\n",
       " 'Poland': 9.41,\n",
       " \"Democratic People's Republic of Korea\": 3.5900000000000003,\n",
       " 'Slovenia': 16.64,\n",
       " 'Uganda': 7.5200000000000005,\n",
       " 'Sweden': 7.07,\n",
       " 'Libya': 0.0,\n",
       " 'Norway': 5.38}"
      ]
     },
     "execution_count": 25,
     "metadata": {},
     "output_type": "execute_result"
    }
   ],
   "source": [
    "total_1987 = total_dic(\"1987\")\n",
    "total_1987"
   ]
  },
  {
   "cell_type": "code",
   "execution_count": 26,
   "metadata": {},
   "outputs": [],
   "source": [
    "def dict_compare(d1, d2):\n",
    "    d1_keys = set(d1.keys())\n",
    "    d2_keys = set(d2.keys())\n",
    "    intersect_keys = d1_keys.intersection(d2_keys)\n",
    "    added = d1_keys - d2_keys\n",
    "    removed = d2_keys - d1_keys\n",
    "    modified = {o : (d1[o], d2[o]) for o in intersect_keys if d1[o] != d2[o]}\n",
    "    same = set(o for o in intersect_keys if d1[o] == d2[o])\n",
    "    return added, removed, modified, same"
   ]
  },
  {
   "cell_type": "code",
   "execution_count": 27,
   "metadata": {},
   "outputs": [
    {
     "data": {
      "text/plain": [
       "(set(),\n",
       " set(),\n",
       " {'Luxembourg': (15.23, 15.21),\n",
       "  'Sweden': (7.07, 7.47),\n",
       "  'Niger': (0.16, 0.11),\n",
       "  'Cameroon': (6.500000000000001, 6.359999999999999),\n",
       "  'Malawi': (1.12, 1.02),\n",
       "  'Egypt': (0.39, 0.42000000000000004),\n",
       "  'Seychelles': (3.27, 3.3000000000000003),\n",
       "  'Nigeria': (7.319999999999999, 6.74),\n",
       "  'Burundi': (8.22, 8.159999999999998),\n",
       "  'Honduras': (2.01, 2.15),\n",
       "  'Sao Tome and Principe': (1.9, 2.57),\n",
       "  'Malta': (5.0, 7.13),\n",
       "  'Japan': (7.7, 7.74),\n",
       "  'Equatorial Guinea': (2.4, 6.49),\n",
       "  'United Arab Emirates': (5.36, 4.43),\n",
       "  'Jordan': (0.30000000000000004, 0.19),\n",
       "  'Cabo Verde': (3.36, 2.79),\n",
       "  'Haiti': (5.119999999999999, 5.81),\n",
       "  'Poland': (9.41, 9.33),\n",
       "  'Swaziland': (3.4699999999999998, 6.68),\n",
       "  'Mexico': (4.699999999999999, 5.1),\n",
       "  'Kyrgyzstan': (3.01, 4.279999999999999),\n",
       "  'Sri Lanka': (0.18000000000000002, 0.14),\n",
       "  'Oman': (1.17, 1.03),\n",
       "  'Portugal': (13.22, 15.350000000000001),\n",
       "  'El Salvador': (2.27, 1.77),\n",
       "  'Cambodia': (0.22, 0.33),\n",
       "  'Botswana': (4.26, 4.63),\n",
       "  'Uruguay': (7.64, 7.4399999999999995),\n",
       "  'Peru': (6.680000000000001, 4.99),\n",
       "  'Philippines': (4.42, 3.78),\n",
       "  'Central African Republic': (2.7800000000000002, 2.5199999999999996),\n",
       "  'Suriname': (3.4800000000000004, 3.67),\n",
       "  'Fiji': (1.6500000000000001, 1.9600000000000002),\n",
       "  'Belize': (4.6499999999999995, 0.0),\n",
       "  'Australia': (12.46, 12.09),\n",
       "  'Latvia': (5.77, 7.039999999999999),\n",
       "  'Senegal': (0.45999999999999996, 0.6100000000000001),\n",
       "  'Canada': (9.120000000000001, 9.0),\n",
       "  'Italy': (11.790000000000001, 10.899999999999999),\n",
       "  'Mozambique': (0.29000000000000004, 0.39),\n",
       "  'Bahrain': (5.5600000000000005, 4.89),\n",
       "  'Saint Lucia': (10.030000000000001, 11.62),\n",
       "  'Paraguay': (7.35, 6.51),\n",
       "  'Sierra Leone': (4.52, 4.380000000000001),\n",
       "  'Somalia': (0.02, 0.0),\n",
       "  'Ghana': (1.28, 1.8599999999999999),\n",
       "  'Finland': (8.75, 9.419999999999998),\n",
       "  'Denmark': (11.74, 11.649999999999999),\n",
       "  \"Democratic People's Republic of Korea\": (3.5900000000000003,\n",
       "   3.6799999999999997),\n",
       "  'Myanmar': (0.27, 0.16),\n",
       "  'Gabon': (11.41, 9.34),\n",
       "  'Panama': (5.05, 4.6000000000000005),\n",
       "  'Kiribati': (0.63, 0.48),\n",
       "  'Papua New Guinea': (1.29, 1.1099999999999999),\n",
       "  'United Republic of Tanzania': (6.89, 5.9),\n",
       "  'Mongolia': (2.1, 2.59),\n",
       "  'Samoa': (3.1399999999999997, 2.63),\n",
       "  'Antigua and Barbuda': (3.68, 4.69),\n",
       "  'Bolivia (Plurinational State of)': (3.06, 3.05),\n",
       "  'Ukraine': (4.01, 5.32),\n",
       "  'Thailand': (2.58, 3.92),\n",
       "  'Madagascar': (1.3299999999999998, 1.38),\n",
       "  'Colombia': (6.819999999999999, 6.960000000000001),\n",
       "  'Germany': (14.83, 14.64),\n",
       "  'Malaysia': (0.64, 0.68),\n",
       "  'Saudi Arabia': (0.21, 0.15),\n",
       "  'Rwanda': (6.489999999999999, 7.549999999999999),\n",
       "  'Costa Rica': (4.2299999999999995, 5.3999999999999995),\n",
       "  'Qatar': (1.42, 1.4500000000000002),\n",
       "  'Belgium': (13.16, 11.61),\n",
       "  'Lesotho': (2.1, 2.02),\n",
       "  'Singapore': (1.74, 1.61),\n",
       "  'France': (15.9, 16.05),\n",
       "  'Norway': (5.38, 5.08),\n",
       "  'United States of America': (9.61, 9.16),\n",
       "  'Gambia': (1.9600000000000002, 1.6300000000000001),\n",
       "  'Guyana': (7.6, 9.940000000000001),\n",
       "  'Vanuatu': (1.4300000000000002, 1.74),\n",
       "  'Kenya': (2.78, 2.82),\n",
       "  'Cyprus': (8.870000000000001, 9.29),\n",
       "  'Slovakia': (13.240000000000002, 12.700000000000001),\n",
       "  'Russian Federation': (4.59, 5.35),\n",
       "  'Indonesia': (0.06, 0.07),\n",
       "  'Netherlands': (10.2, 10.030000000000001),\n",
       "  'United Kingdom of Great Britain and Northern Ireland': (9.530000000000001,\n",
       "   9.99),\n",
       "  'Saint Kitts and Nevis': (3.18, 4.65),\n",
       "  'Brunei Darussalam': (2.8899999999999997, 2.7800000000000002),\n",
       "  'Hungary': (15.7, 16.29),\n",
       "  'Algeria': (0.28, 0.4),\n",
       "  'Guinea': (0.18, 0.21),\n",
       "  'Iceland': (5.6499999999999995, 5.359999999999999),\n",
       "  'Uganda': (7.5200000000000005, 7.8),\n",
       "  'Nepal': (0.02, 0.03),\n",
       "  'Morocco': (0.76, 0.7),\n",
       "  'Comoros': (0.08, 0.10999999999999999),\n",
       "  \"Cte d'Ivoire\": (2.49, 2.2),\n",
       "  'Angola': (1.6300000000000001, 2.28),\n",
       "  'Congo': (4.76, 3.1500000000000004),\n",
       "  'Yemen': (0.16999999999999998, 0.2),\n",
       "  'Chile': (9.49, 8.649999999999999),\n",
       "  'Spain': (14.41, 13.280000000000001),\n",
       "  'Syrian Arab Republic': (0.77, 0.54),\n",
       "  'Namibia': (0.25, 0.24),\n",
       "  'New Zealand': (12.27, 11.52),\n",
       "  'Guatemala': (2.78, 2.47),\n",
       "  'Bhutan': (0.46, 0.31),\n",
       "  'Bulgaria': (10.91, 11.43),\n",
       "  'Burkina Faso': (4.069999999999999, 3.99),\n",
       "  'Djibouti': (1.5899999999999999, 0.87),\n",
       "  'Sudan': (0.25, 0.15),\n",
       "  'Argentina': (12.759999999999998, 10.82),\n",
       "  'Republic of Korea': (10.18, 9.620000000000001),\n",
       "  'Croatia': (13.51, 10.92),\n",
       "  \"Lao People's Democratic Republic\": (4.59, 5.95),\n",
       "  'Israel': (2.26, 2.0300000000000002),\n",
       "  'Solomon Islands': (0.7, 0.5800000000000001),\n",
       "  'Liberia': (4.869999999999999, 5.61),\n",
       "  'Dominican Republic': (4.37, 4.53),\n",
       "  'Tunisia': (0.98, 0.95),\n",
       "  'Ethiopia': (0.63, 0.8600000000000001),\n",
       "  'Togo': (2.6499999999999995, 2.2199999999999998),\n",
       "  'Democratic Republic of the Congo': (2.3599999999999994, 1.92),\n",
       "  'Eritrea': (0.39, 0.29),\n",
       "  'Austria': (13.5, 13.9),\n",
       "  'China': (3.1599999999999997, 3.33),\n",
       "  'Guinea-Bissau': (2.4499999999999997, 2.67),\n",
       "  'Greece': (9.82, 10.15),\n",
       "  'Turkey': (0.89, 0.72),\n",
       "  'Bahamas': (14.139999999999999, 12.290000000000001),\n",
       "  'Venezuela (Bolivarian Republic of)': (9.16, 7.87),\n",
       "  'South Africa': (8.97, 9.21),\n",
       "  'Romania': (7.08, 8.41),\n",
       "  'Trinidad and Tobago': (4.349999999999999, 4.68),\n",
       "  'Mali': (0.62, 0.6699999999999999),\n",
       "  'Brazil': (3.94, 5.52),\n",
       "  'Iraq': (0.66, 0.75),\n",
       "  'Belarus': (0.0, 7.9799999999999995),\n",
       "  'Albania': (1.63, 1.73),\n",
       "  'Benin': (1.54, 1.3800000000000001),\n",
       "  'Switzerland': (14.02, 13.849999999999998),\n",
       "  'Ireland': (10.98, 11.79),\n",
       "  'Zimbabwe': (5.029999999999999, 4.92),\n",
       "  'Zambia': (3.12, 3.37),\n",
       "  'Slovenia': (16.64, 12.969999999999999),\n",
       "  'Nicaragua': (3.45, 2.5),\n",
       "  'Mauritius': (3.42, 3.54),\n",
       "  'Czech Republic': (13.2, 13.009999999999998),\n",
       "  'India': (1.49, 1.66),\n",
       "  'Lebanon': (3.8099999999999996, 3.94),\n",
       "  'Jamaica': (3.11, 3.03)},\n",
       " {'Afghanistan',\n",
       "  'Bangladesh',\n",
       "  'Chad',\n",
       "  'Cuba',\n",
       "  'Ecuador',\n",
       "  'Iran (Islamic Republic of)',\n",
       "  'Kuwait',\n",
       "  'Libya',\n",
       "  'Lithuania',\n",
       "  'Mauritania',\n",
       "  'Micronesia (Federated States of)',\n",
       "  'Pakistan',\n",
       "  'Viet Nam'})"
      ]
     },
     "execution_count": 27,
     "metadata": {},
     "output_type": "execute_result"
    }
   ],
   "source": [
    "dict_compare(total_1987, total_1989)"
   ]
  },
  {
   "cell_type": "code",
   "execution_count": 28,
   "metadata": {},
   "outputs": [],
   "source": [
    "d1 = set(total_1989.keys())"
   ]
  },
  {
   "cell_type": "code",
   "execution_count": 29,
   "metadata": {},
   "outputs": [],
   "source": [
    "d2 = set(total_1987.keys())"
   ]
  },
  {
   "cell_type": "code",
   "execution_count": 30,
   "metadata": {},
   "outputs": [],
   "source": [
    "intersect_keys = d1.intersection(d2)"
   ]
  },
  {
   "cell_type": "code",
   "execution_count": 31,
   "metadata": {},
   "outputs": [
    {
     "data": {
      "text/plain": [
       "{'Afghanistan',\n",
       " 'Albania',\n",
       " 'Algeria',\n",
       " 'Angola',\n",
       " 'Antigua and Barbuda',\n",
       " 'Argentina',\n",
       " 'Australia',\n",
       " 'Austria',\n",
       " 'Bahamas',\n",
       " 'Bahrain',\n",
       " 'Bangladesh',\n",
       " 'Belarus',\n",
       " 'Belgium',\n",
       " 'Belize',\n",
       " 'Benin',\n",
       " 'Bhutan',\n",
       " 'Bolivia (Plurinational State of)',\n",
       " 'Botswana',\n",
       " 'Brazil',\n",
       " 'Brunei Darussalam',\n",
       " 'Bulgaria',\n",
       " 'Burkina Faso',\n",
       " 'Burundi',\n",
       " 'Cabo Verde',\n",
       " 'Cambodia',\n",
       " 'Cameroon',\n",
       " 'Canada',\n",
       " 'Central African Republic',\n",
       " 'Chad',\n",
       " 'Chile',\n",
       " 'China',\n",
       " 'Colombia',\n",
       " 'Comoros',\n",
       " 'Congo',\n",
       " 'Costa Rica',\n",
       " 'Croatia',\n",
       " \"Cte d'Ivoire\",\n",
       " 'Cuba',\n",
       " 'Cyprus',\n",
       " 'Czech Republic',\n",
       " \"Democratic People's Republic of Korea\",\n",
       " 'Democratic Republic of the Congo',\n",
       " 'Denmark',\n",
       " 'Djibouti',\n",
       " 'Dominican Republic',\n",
       " 'Ecuador',\n",
       " 'Egypt',\n",
       " 'El Salvador',\n",
       " 'Equatorial Guinea',\n",
       " 'Eritrea',\n",
       " 'Ethiopia',\n",
       " 'Fiji',\n",
       " 'Finland',\n",
       " 'France',\n",
       " 'Gabon',\n",
       " 'Gambia',\n",
       " 'Germany',\n",
       " 'Ghana',\n",
       " 'Greece',\n",
       " 'Guatemala',\n",
       " 'Guinea',\n",
       " 'Guinea-Bissau',\n",
       " 'Guyana',\n",
       " 'Haiti',\n",
       " 'Honduras',\n",
       " 'Hungary',\n",
       " 'Iceland',\n",
       " 'India',\n",
       " 'Indonesia',\n",
       " 'Iran (Islamic Republic of)',\n",
       " 'Iraq',\n",
       " 'Ireland',\n",
       " 'Israel',\n",
       " 'Italy',\n",
       " 'Jamaica',\n",
       " 'Japan',\n",
       " 'Jordan',\n",
       " 'Kenya',\n",
       " 'Kiribati',\n",
       " 'Kuwait',\n",
       " 'Kyrgyzstan',\n",
       " \"Lao People's Democratic Republic\",\n",
       " 'Latvia',\n",
       " 'Lebanon',\n",
       " 'Lesotho',\n",
       " 'Liberia',\n",
       " 'Libya',\n",
       " 'Lithuania',\n",
       " 'Luxembourg',\n",
       " 'Madagascar',\n",
       " 'Malawi',\n",
       " 'Malaysia',\n",
       " 'Mali',\n",
       " 'Malta',\n",
       " 'Mauritania',\n",
       " 'Mauritius',\n",
       " 'Mexico',\n",
       " 'Micronesia (Federated States of)',\n",
       " 'Mongolia',\n",
       " 'Morocco',\n",
       " 'Mozambique',\n",
       " 'Myanmar',\n",
       " 'Namibia',\n",
       " 'Nepal',\n",
       " 'Netherlands',\n",
       " 'New Zealand',\n",
       " 'Nicaragua',\n",
       " 'Niger',\n",
       " 'Nigeria',\n",
       " 'Norway',\n",
       " 'Oman',\n",
       " 'Pakistan',\n",
       " 'Panama',\n",
       " 'Papua New Guinea',\n",
       " 'Paraguay',\n",
       " 'Peru',\n",
       " 'Philippines',\n",
       " 'Poland',\n",
       " 'Portugal',\n",
       " 'Qatar',\n",
       " 'Republic of Korea',\n",
       " 'Romania',\n",
       " 'Russian Federation',\n",
       " 'Rwanda',\n",
       " 'Saint Kitts and Nevis',\n",
       " 'Saint Lucia',\n",
       " 'Samoa',\n",
       " 'Sao Tome and Principe',\n",
       " 'Saudi Arabia',\n",
       " 'Senegal',\n",
       " 'Seychelles',\n",
       " 'Sierra Leone',\n",
       " 'Singapore',\n",
       " 'Slovakia',\n",
       " 'Slovenia',\n",
       " 'Solomon Islands',\n",
       " 'Somalia',\n",
       " 'South Africa',\n",
       " 'Spain',\n",
       " 'Sri Lanka',\n",
       " 'Sudan',\n",
       " 'Suriname',\n",
       " 'Swaziland',\n",
       " 'Sweden',\n",
       " 'Switzerland',\n",
       " 'Syrian Arab Republic',\n",
       " 'Thailand',\n",
       " 'Togo',\n",
       " 'Trinidad and Tobago',\n",
       " 'Tunisia',\n",
       " 'Turkey',\n",
       " 'Uganda',\n",
       " 'Ukraine',\n",
       " 'United Arab Emirates',\n",
       " 'United Kingdom of Great Britain and Northern Ireland',\n",
       " 'United Republic of Tanzania',\n",
       " 'United States of America',\n",
       " 'Uruguay',\n",
       " 'Vanuatu',\n",
       " 'Venezuela (Bolivarian Republic of)',\n",
       " 'Viet Nam',\n",
       " 'Yemen',\n",
       " 'Zambia',\n",
       " 'Zimbabwe'}"
      ]
     },
     "execution_count": 31,
     "metadata": {},
     "output_type": "execute_result"
    }
   ],
   "source": [
    "intersect_keys"
   ]
  }
 ],
 "metadata": {
  "kernelspec": {
   "display_name": "Python 3",
   "language": "python",
   "name": "python3"
  },
  "language_info": {
   "codemirror_mode": {
    "name": "ipython",
    "version": 3
   },
   "file_extension": ".py",
   "mimetype": "text/x-python",
   "name": "python",
   "nbconvert_exporter": "python",
   "pygments_lexer": "ipython3",
   "version": "3.8.5"
  }
 },
 "nbformat": 4,
 "nbformat_minor": 2
}
